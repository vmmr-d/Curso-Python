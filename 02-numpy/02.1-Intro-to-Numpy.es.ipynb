{
  "cells": [
    {
      "cell_type": "markdown",
      "id": "bdfbcacc",
      "metadata": {
        "id": "bdfbcacc"
      },
      "source": [
        "![Logo de NumPy](https://github.com/4GeeksAcademy/machine-learning-prework/blob/main/02-numpy/assets/numpy_logo.png?raw=true)\n",
        "\n",
        "## Introducción a NumPy\n",
        "\n",
        "`NumPy` es un juego de palabras que significa **Python numérico** (*Numerical Python*). Es una librería de código abierto que se utiliza para llevar a cabo tareas matemáticas con altísima eficiencia. Además, introduce estructuras de datos como los arrays multidimensionales, que se pueden operar entre ellos a alto nivel, sin meterse mucho en el detalle.\n",
        "\n",
        "En concreto, las claves de esta librería son:\n",
        "\n",
        "- **Array multidimensionales**: Esta librería proporciona un objeto llamado `ndarray`, que permite almacenar y manipular grandes conjuntos de datos de forma eficiente. Los arrays pueden tener cualquier número de dimensiones.\n",
        "- **Operaciones Vectorizadas**: NumPy permite realizar operaciones matemáticas en arrays completos sin la necesidad de bucles explícitos en el código, lo que lo hace muy rápido y eficiente.\n",
        "- **Funciones matemáticas**: NumPy proporciona una amplia gama de funciones matemáticas para trabajar con arrays, incluyendo funciones trigonométricas, estadísticas, álgebra lineal, entre otras.\n",
        "- **Eficiencia**: Es mucho más rápido que la misma funcionalidad implementada directamente sobre Python nativo. Además, es muy flexible en términos de acceso y manipulación de elementos individuales o subconjuntos de arrays.\n",
        "\n",
        "NumPy es una biblioteca fundamental para el Machine Learning y la ciencia de los datos en Python. Proporciona una amplia gama de herramientas y funciones para trabajar eficientemente con datos numéricos en forma de arrays y matrices."
      ]
    },
    {
      "cell_type": "markdown",
      "id": "dc410026",
      "metadata": {
        "id": "dc410026"
      },
      "source": [
        "### Arrays\n",
        "\n",
        "Un **array** de NumPy es una estructura de datos que permite almacenar una colección de elementos, generalmente números, en una o más dimensiones.\n",
        "\n",
        "#### Array unidimensional\n",
        "\n",
        "Un array unidimensional (1D) de NumPy es una estructura de datos que contiene una secuencia de elementos en una única dimensión. Es similar a una lista en Python, pero con las ventajas de rendimiento y funcionalidad que ofrece NumPy.\n",
        "\n",
        "![Array de una dimensión](https://github.com/4GeeksAcademy/machine-learning-prework/blob/main/02-numpy/assets/1D.png?raw=true \"1D\")\n",
        "\n",
        "Un array 1D puede ser creado usando la función `array` de la librería con una lista de elementos como argumento. Por ejemplo:"
      ]
    },
    {
      "cell_type": "code",
      "execution_count": null,
      "id": "d8a0686b",
      "metadata": {
        "id": "d8a0686b",
        "outputId": "ade682a5-07be-4a62-cbdd-60f062dfe520"
      },
      "outputs": [
        {
          "data": {
            "text/plain": [
              "array([1, 2, 3, 4, 5])"
            ]
          },
          "execution_count": 1,
          "metadata": {},
          "output_type": "execute_result"
        }
      ],
      "source": [
        "import numpy as np\n",
        "\n",
        "array = np.array([1, 2, 3, 4, 5])\n",
        "array"
      ]
    },
    {
      "cell_type": "markdown",
      "id": "e090f7a0",
      "metadata": {
        "id": "e090f7a0"
      },
      "source": [
        "Esto creará un array 1D con los elementos 1, 2, 3, 4 y 5. Los elementos del array deben ser del mismo tipo de datos. Si los elementos son de diferentes tipos, NumPy intentará convertirlos al mismo tipo si es posible.\n",
        "\n",
        "En un array 1D, podemos acceder a los elementos usando **índices** (*indexes*), modificarlos y realizar operaciones matemáticas en el array completo de forma eficiente. A continuación se muestran algunas operaciones que se pueden realizar utilizando el array anterior:"
      ]
    },
    {
      "cell_type": "code",
      "execution_count": null,
      "id": "a56cb1b0",
      "metadata": {
        "id": "a56cb1b0",
        "outputId": "c81412a2-d080-4912-8f25-2a579ee8c670"
      },
      "outputs": [
        {
          "name": "stdout",
          "output_type": "stream",
          "text": [
            "3\n",
            "[1 7 3 4 5]\n",
            "[11 17 13 14 15]\n",
            "70\n"
          ]
        }
      ],
      "source": [
        "# Acceder al tercer elemento\n",
        "print(array[2])\n",
        "\n",
        "# Cambiar el valor del segundo elemento\n",
        "array[1] = 7\n",
        "print(array)\n",
        "\n",
        "# Sumar 10 a todos los elementos\n",
        "array += 10\n",
        "print(array)\n",
        "\n",
        "# Calcular la suma de los elementos\n",
        "sum_all = np.sum(array)\n",
        "print(sum_all)"
      ]
    },
    {
      "cell_type": "markdown",
      "id": "322771b1",
      "metadata": {
        "id": "322771b1"
      },
      "source": [
        "#### Array N-dimensional\n",
        "\n",
        "Un array multidimensional o n-dimensional en NumPy es una estructura de datos que organiza elementos en múltiples dimensiones (ejes). Estos arrays permiten representar estructuras de datos más complejas, como matrices (array 2D, 2 ejes), tensores (array 3D, 3 ejes) y estructuras de mayor dimensión.\n",
        "\n",
        "![Arrays de diferentes dimensiones](https://github.com/4GeeksAcademy/machine-learning-prework/blob/main/02-numpy/assets/3D.png?raw=true \"3D\")\n",
        "\n",
        "Un array N-dimensional puede ser creado también usando la función `array` de la librería. Por ejemplo, si queremos crear un array 2D:"
      ]
    },
    {
      "cell_type": "code",
      "execution_count": null,
      "id": "2033ba3c",
      "metadata": {
        "id": "2033ba3c",
        "outputId": "f0b03e66-05d4-4dd6-f04a-5c2fd00ba083"
      },
      "outputs": [
        {
          "data": {
            "text/plain": [
              "array([[1, 2, 3],\n",
              "       [4, 5, 6],\n",
              "       [7, 8, 9]])"
            ]
          },
          "execution_count": 3,
          "metadata": {},
          "output_type": "execute_result"
        }
      ],
      "source": [
        "array_2d = np.array([[1, 2, 3], [4, 5, 6], [7, 8, 9]])\n",
        "array_2d"
      ]
    },
    {
      "cell_type": "markdown",
      "id": "d3dac6c2",
      "metadata": {
        "id": "d3dac6c2"
      },
      "source": [
        "Si ahora quisiéramos crear un array 3D, tendríamos que pensar en él como una lista de matrices:"
      ]
    },
    {
      "cell_type": "code",
      "execution_count": null,
      "id": "bc914841",
      "metadata": {
        "id": "bc914841",
        "outputId": "1df73086-3972-440a-edc9-9001e7bd743d"
      },
      "outputs": [
        {
          "data": {
            "text/plain": [
              "array([[[1, 2],\n",
              "        [3, 4]],\n",
              "\n",
              "       [[5, 6],\n",
              "        [7, 8]]])"
            ]
          },
          "execution_count": 4,
          "metadata": {},
          "output_type": "execute_result"
        }
      ],
      "source": [
        "array_3d = np.array([[[1, 2], [3, 4]], [[5, 6], [7, 8]]])\n",
        "array_3d"
      ]
    },
    {
      "cell_type": "markdown",
      "id": "da7bcb64",
      "metadata": {
        "id": "da7bcb64"
      },
      "source": [
        "Al igual que sucedía con los arrays 1D, los elementos en un array multidimensional son accesibles mediante índices, se pueden realizar operaciones con ellos, etcétera.\n",
        "\n",
        "A medida que agregamos más dimensiones, el principio básico sigue siendo el mismo: cada dimensión adicional puede considerarse como un nivel adicional de anidamiento. Sin embargo, a nivel práctico, trabajar con arrays de más de 3 o 4 dimensiones puede volverse más complejo y menos intuitivo.\n",
        "\n",
        "Los arrays n-dimensionales en NumPy permiten una gran flexibilidad y potencia para representar y manipular datos en formas más complejas, especialmente útiles en campos como la ciencia de los datos, procesamiento de imágenes y aprendizaje profundo."
      ]
    },
    {
      "cell_type": "markdown",
      "id": "d699ac98",
      "metadata": {
        "id": "d699ac98"
      },
      "source": [
        "### Funciones\n",
        "\n",
        "NumPy proporciona una gran cantidad de funciones predefinidas y que se pueden aplicar directamente sobre las estructuras de datos vistas anteriormente o las propias de Python (listas, matrices, etcétera). Algunas de las más utilizadas en el análisis de datos son:"
      ]
    },
    {
      "cell_type": "code",
      "execution_count": null,
      "id": "e7680306",
      "metadata": {
        "id": "e7680306",
        "outputId": "87f4d0c0-9b67-4f2f-b8ff-658e622c6df8"
      },
      "outputs": [
        {
          "name": "stdout",
          "output_type": "stream",
          "text": [
            "Suma: [ 6  7  8  9 10]\n",
            "Producto: [ 3  6  9 12 15]\n",
            "Logaritmo natural: [0.         0.69314718 1.09861229 1.38629436 1.60943791]\n",
            "Exponencial: [  2.71828183   7.3890561   20.08553692  54.59815003 148.4131591 ]\n",
            "Media: 3.0\n",
            "Mediana: 3.0\n",
            "Desviación estándar: 1.4142135623730951\n",
            "Varianza: 2.0\n",
            "Máximo valor: 5\n",
            "Índice del máximo valor: 4\n",
            "Mínimo valor: 1\n",
            "Índice del mínimo valor: 0\n",
            "Suma de todos los elementos: 15\n",
            "Redondeo: [1. 2. 4. 5.]\n",
            "Entero menor (floor): [1. 2. 3. 4.]\n",
            "Entero mayor (ceil): [2. 3. 4. 5.]\n"
          ]
        }
      ],
      "source": [
        "import numpy as np\n",
        "\n",
        "# Crear un array para el ejemplo\n",
        "arr = np.array([1, 2, 3, 4, 5])\n",
        "\n",
        "# Operaciones Aritméticas\n",
        "print(\"Suma:\", np.add(arr, 5))\n",
        "print(\"Producto:\", np.multiply(arr, 3))\n",
        "\n",
        "# Logarítmicas y Exponenciales\n",
        "print(\"Logaritmo natural:\", np.log(arr))\n",
        "print(\"Exponencial:\", np.exp(arr))\n",
        "\n",
        "# Funciones Estadísticas\n",
        "print(\"Media:\", np.mean(arr))\n",
        "print(\"Mediana:\", np.median(arr))\n",
        "print(\"Desviación estándar:\", np.std(arr))\n",
        "print(\"Varianza:\", np.var(arr))\n",
        "print(\"Máximo valor:\", np.max(arr))\n",
        "print(\"Índice del máximo valor:\", np.argmax(arr))\n",
        "print(\"Mínimo valor:\", np.min(arr))\n",
        "print(\"Índice del mínimo valor:\", np.argmin(arr))\n",
        "print(\"Suma de todos los elementos:\", np.sum(arr))\n",
        "\n",
        "# Funciones de Redondeo\n",
        "arr_decimal = np.array([1.23, 2.47, 3.56, 4.89])\n",
        "print(\"Redondeo:\", np.around(arr_decimal))\n",
        "print(\"Entero menor (floor):\", np.floor(arr_decimal))\n",
        "print(\"Entero mayor (ceil):\", np.ceil(arr_decimal))"
      ]
    },
    {
      "cell_type": "markdown",
      "id": "51b5cda3",
      "metadata": {
        "id": "51b5cda3"
      },
      "source": [
        "## Ejercicios: Haz clic en \"open in colab\" para realizarlos\n",
        "\n",
        "> Solución: https://github.com/4GeeksAcademy/machine-learning-prework/blob/main/02-numpy/02.1-Intro-to-Numpy_solutions.ipynb\n",
        "\n",
        "### Creación de arrays"
      ]
    },
    {
      "cell_type": "markdown",
      "id": "e3c20b3d",
      "metadata": {
        "id": "e3c20b3d"
      },
      "source": [
        "#### Ejercicio 01:  Crea un **vector nulo** (*null vector*) que tenga 10 elementos (★☆☆)\n",
        "\n",
        "Un vector nulo es un array de una dimensión compuesto por ceros (`0`).\n",
        "\n",
        "> NOTA: Revisa la función `np.zeros` (https://numpy.org/doc/stable/reference/generated/numpy.zeros.html)"
      ]
    },
    {
      "cell_type": "code",
      "execution_count": 2,
      "id": "8a758bcf",
      "metadata": {
        "id": "8a758bcf",
        "outputId": "4d449a5c-9afe-488a-c117-9779661937b8",
        "colab": {
          "base_uri": "https://localhost:8080/"
        }
      },
      "outputs": [
        {
          "output_type": "execute_result",
          "data": {
            "text/plain": [
              "array([0., 0., 0., 0., 0., 0., 0., 0., 0., 0.])"
            ]
          },
          "metadata": {},
          "execution_count": 2
        }
      ],
      "source": [
        "import numpy as np\n",
        "np.zeros(10)\n"
      ]
    },
    {
      "cell_type": "markdown",
      "id": "6cbe7954",
      "metadata": {
        "id": "6cbe7954"
      },
      "source": [
        "#### Ejercicio 02: Crea un vector de unos que tenga 10 elementos (★☆☆)\n",
        "\n",
        "> NOTA: Revisa la función `np.ones` (https://numpy.org/doc/stable/reference/generated/numpy.ones.html)"
      ]
    },
    {
      "cell_type": "code",
      "execution_count": 3,
      "id": "86477874",
      "metadata": {
        "id": "86477874",
        "outputId": "a334fb26-dad5-4281-e3a8-96e0c1a1557d",
        "colab": {
          "base_uri": "https://localhost:8080/"
        }
      },
      "outputs": [
        {
          "output_type": "execute_result",
          "data": {
            "text/plain": [
              "array([1., 1., 1., 1., 1., 1., 1., 1., 1., 1.])"
            ]
          },
          "metadata": {},
          "execution_count": 3
        }
      ],
      "source": [
        "np.ones(10)"
      ]
    },
    {
      "cell_type": "markdown",
      "id": "0a708990",
      "metadata": {
        "id": "0a708990"
      },
      "source": [
        "#### Ejercicio 03: Investiga la función `linspace` de NumPy y crea un array que contenga 10 elementos (★☆☆)\n",
        "\n",
        "> NOTA: Revisa la función `np.linspace` (https://numpy.org/doc/stable/reference/generated/numpy.linspace.html)"
      ]
    },
    {
      "cell_type": "code",
      "execution_count": 4,
      "id": "477e01f4",
      "metadata": {
        "id": "477e01f4",
        "outputId": "5847a176-e345-4c9e-a946-1d23fa076857",
        "colab": {
          "base_uri": "https://localhost:8080/"
        }
      },
      "outputs": [
        {
          "output_type": "execute_result",
          "data": {
            "text/plain": [
              "array([ 0.        ,  1.11111111,  2.22222222,  3.33333333,  4.44444444,\n",
              "        5.55555556,  6.66666667,  7.77777778,  8.88888889, 10.        ])"
            ]
          },
          "metadata": {},
          "execution_count": 4
        }
      ],
      "source": [
        "np.linspace(0,10,10)"
      ]
    },
    {
      "cell_type": "markdown",
      "id": "9794fe71",
      "metadata": {
        "id": "9794fe71"
      },
      "source": [
        "#### Ejercicio 04: Busca varias formas de generar un array con números aleatorios y crea un array 1D y dos arrays 2D (★★☆)\n",
        "\n",
        "> NOTA: Revisa las funciones `np.random.rand` (https://numpy.org/doc/stable/reference/random/generated/numpy.random.rand.html), `np.random.randint` (https://numpy.org/doc/stable/reference/random/generated/numpy.random.randint.html) y `np.random.randn` (https://numpy.org/doc/stable/reference/random/generated/numpy.random.randn.html)"
      ]
    },
    {
      "cell_type": "code",
      "execution_count": 12,
      "id": "3d9a48a7",
      "metadata": {
        "id": "3d9a48a7",
        "outputId": "8e17ec8d-a518-4964-b5c0-59a859e674d1",
        "colab": {
          "base_uri": "https://localhost:8080/"
        }
      },
      "outputs": [
        {
          "output_type": "execute_result",
          "data": {
            "text/plain": [
              "array([0.88280135, 0.59016554, 0.47328887, 0.06352764, 0.58574901,\n",
              "       0.21394864, 0.64561994, 0.98903134, 0.79282691, 0.14406384])"
            ]
          },
          "metadata": {},
          "execution_count": 12
        }
      ],
      "source": [
        "np.random.rand(10)"
      ]
    },
    {
      "cell_type": "markdown",
      "id": "78a37e5c",
      "metadata": {
        "id": "78a37e5c"
      },
      "source": [
        "#### Ejercicio 05: Crea una matriz (array 2D) identidad de 5x5 (★☆☆)\n",
        "\n",
        "\n",
        "> NOTA: Revisa la función `np.eye`(https://numpy.org/devdocs/reference/generated/numpy.eye.html)"
      ]
    },
    {
      "cell_type": "code",
      "execution_count": 11,
      "id": "a6751106",
      "metadata": {
        "id": "a6751106",
        "outputId": "a62f9603-c65a-4c13-de06-2b40d9206580",
        "colab": {
          "base_uri": "https://localhost:8080/"
        }
      },
      "outputs": [
        {
          "output_type": "execute_result",
          "data": {
            "text/plain": [
              "array([[1., 0., 0., 0., 0.],\n",
              "       [0., 1., 0., 0., 0.],\n",
              "       [0., 0., 1., 0., 0.],\n",
              "       [0., 0., 0., 1., 0.],\n",
              "       [0., 0., 0., 0., 1.]])"
            ]
          },
          "metadata": {},
          "execution_count": 11
        }
      ],
      "source": [
        "np.eye(5)\n"
      ]
    },
    {
      "cell_type": "markdown",
      "id": "08bb63e6",
      "metadata": {
        "id": "08bb63e6"
      },
      "source": [
        "#### Ejercicio 06: Crea una matriz con números aleatorios de 3x2 y calcula el valor mínimo y máximo (★☆☆)\n",
        "\n",
        "> NOTA: Revisa la función `np.min` (https://numpy.org/devdocs/reference/generated/numpy.min.html) y `np.max` (https://numpy.org/devdocs/reference/generated/numpy.max.html)"
      ]
    },
    {
      "cell_type": "code",
      "execution_count": 16,
      "id": "3214cca1",
      "metadata": {
        "id": "3214cca1",
        "outputId": "493ac6ec-aa94-4cc5-d41e-59bfc17e24cd",
        "colab": {
          "base_uri": "https://localhost:8080/"
        }
      },
      "outputs": [
        {
          "output_type": "stream",
          "name": "stdout",
          "text": [
            "[[0.90203331 0.55181807]\n",
            " [0.88687127 0.05130133]\n",
            " [0.36843057 0.5587837 ]]\n",
            "minimo = 0.051301327916139616\n",
            "maximo = 0.9020333130588735\n"
          ]
        }
      ],
      "source": [
        "m = np.random.rand(3,2)\n",
        "print(m)\n",
        "minimo = np.min(m)\n",
        "maximo = np.max(m)\n",
        "print(f'minimo =', minimo)\n",
        "print(f'maximo =', maximo)\n"
      ]
    },
    {
      "cell_type": "markdown",
      "id": "57c6c275",
      "metadata": {
        "id": "57c6c275"
      },
      "source": [
        "#### Ejercicio 07: Crea un vector con números aleatorios de 30 elementos y calcula la media (★☆☆)\n",
        "\n",
        "> NOTA: Revisa la función `np.mean` (https://numpy.org/doc/stable/reference/generated/numpy.mean.html)"
      ]
    },
    {
      "cell_type": "code",
      "execution_count": 17,
      "id": "cc960ba5",
      "metadata": {
        "id": "cc960ba5",
        "outputId": "ec06319a-8b99-4320-b35b-a37d80064b15",
        "colab": {
          "base_uri": "https://localhost:8080/"
        }
      },
      "outputs": [
        {
          "output_type": "stream",
          "name": "stdout",
          "text": [
            "[0.5450694  0.09055137 0.21168914 0.1279519  0.67688229 0.323951\n",
            " 0.11965934 0.44617768 0.53306681 0.34109773 0.9571066  0.25661884\n",
            " 0.95568334 0.84695653 0.2192776  0.44656522 0.40587202 0.97609157\n",
            " 0.50116713 0.57056915 0.17797701 0.08893073 0.65956072 0.649058\n",
            " 0.1884518  0.24958898 0.90970924 0.676257   0.02129224 0.46800668]\n",
            "media = 0.45469456829937455\n"
          ]
        }
      ],
      "source": [
        "a = np.random.rand(30)\n",
        "print(a)\n",
        "media = np.mean(a)\n",
        "print(f'media =', media)"
      ]
    },
    {
      "cell_type": "markdown",
      "id": "2c801667",
      "metadata": {
        "id": "2c801667"
      },
      "source": [
        "#### Ejercicio 08: Convierte la lista `[1, 2, 3]` y la tupla `(1, 2, 3)` en arrays (★☆☆)"
      ]
    },
    {
      "cell_type": "code",
      "execution_count": 18,
      "id": "3f36c71c",
      "metadata": {
        "id": "3f36c71c"
      },
      "outputs": [],
      "source": [
        "lista = [1, 2, 3]\n",
        "tupla = (1, 2, 3)\n",
        "array_lista = np.array(lista)\n",
        "array_tupla = np.array(tupla)"
      ]
    },
    {
      "cell_type": "markdown",
      "id": "962bb9fc",
      "metadata": {
        "id": "962bb9fc"
      },
      "source": [
        "### Operaciones entre arrays"
      ]
    },
    {
      "cell_type": "markdown",
      "id": "48d48f01",
      "metadata": {
        "id": "48d48f01"
      },
      "source": [
        "#### Ejercicio 09: Invierte el vector del ejercicio anterior (★☆☆)\n",
        "\n",
        "> NOTA: Revisa la función `np.flip` (https://numpy.org/doc/stable/reference/generated/numpy.flip.html)"
      ]
    },
    {
      "cell_type": "code",
      "execution_count": 19,
      "id": "d3e13052",
      "metadata": {
        "id": "d3e13052",
        "outputId": "65fed480-3184-4af1-a229-40ec2448bb95",
        "colab": {
          "base_uri": "https://localhost:8080/"
        }
      },
      "outputs": [
        {
          "output_type": "execute_result",
          "data": {
            "text/plain": [
              "array([3, 2, 1])"
            ]
          },
          "metadata": {},
          "execution_count": 19
        }
      ],
      "source": [
        "np.flip(array_lista)"
      ]
    },
    {
      "cell_type": "markdown",
      "id": "233addce",
      "metadata": {
        "id": "233addce"
      },
      "source": [
        "#### Ejercicio 10: Cambia el tamaño de un array aleatorio de dimensiones 5x12 en 12x5 (★☆☆)\n",
        "\n",
        "> NOTA: Revisa la función `np.reshape` (https://numpy.org/doc/stable/reference/generated/numpy.reshape.html)"
      ]
    },
    {
      "cell_type": "code",
      "execution_count": 20,
      "id": "bfaed09f",
      "metadata": {
        "id": "bfaed09f",
        "outputId": "7c1194fa-4e3b-4a88-ff93-8f9f93c754ac",
        "colab": {
          "base_uri": "https://localhost:8080/"
        }
      },
      "outputs": [
        {
          "output_type": "stream",
          "name": "stdout",
          "text": [
            "[[0.86800828 0.39220693 0.47135847 0.645202   0.2872492  0.40902702\n",
            "  0.30834634 0.03490518 0.18948125 0.90890268 0.85245431 0.16854227]\n",
            " [0.99146242 0.44609226 0.25887482 0.79229178 0.16255675 0.2827328\n",
            "  0.02542871 0.87457012 0.90519959 0.20411512 0.27364395 0.42841327]\n",
            " [0.47855185 0.50090719 0.56556537 0.61076965 0.78886392 0.32247845\n",
            "  0.70889566 0.62135966 0.04645049 0.57674187 0.31076215 0.682491  ]\n",
            " [0.56806998 0.43357188 0.29808528 0.11101131 0.16615289 0.54324927\n",
            "  0.68605284 0.39180959 0.22539774 0.36658437 0.76971466 0.04625622]\n",
            " [0.88433224 0.1972297  0.23155247 0.07736905 0.38032878 0.33415315\n",
            "  0.80221567 0.18283964 0.03059458 0.2505853  0.05667706 0.09168012]]\n",
            "[[0.86800828 0.39220693 0.47135847 0.645202   0.2872492 ]\n",
            " [0.40902702 0.30834634 0.03490518 0.18948125 0.90890268]\n",
            " [0.85245431 0.16854227 0.99146242 0.44609226 0.25887482]\n",
            " [0.79229178 0.16255675 0.2827328  0.02542871 0.87457012]\n",
            " [0.90519959 0.20411512 0.27364395 0.42841327 0.47855185]\n",
            " [0.50090719 0.56556537 0.61076965 0.78886392 0.32247845]\n",
            " [0.70889566 0.62135966 0.04645049 0.57674187 0.31076215]\n",
            " [0.682491   0.56806998 0.43357188 0.29808528 0.11101131]\n",
            " [0.16615289 0.54324927 0.68605284 0.39180959 0.22539774]\n",
            " [0.36658437 0.76971466 0.04625622 0.88433224 0.1972297 ]\n",
            " [0.23155247 0.07736905 0.38032878 0.33415315 0.80221567]\n",
            " [0.18283964 0.03059458 0.2505853  0.05667706 0.09168012]]\n"
          ]
        }
      ],
      "source": [
        "a = np.random.rand(5,12)\n",
        "print(a)\n",
        "b = np.reshape(a,(12,5))\n",
        "print(b)\n"
      ]
    },
    {
      "cell_type": "markdown",
      "id": "645e5381",
      "metadata": {
        "id": "645e5381"
      },
      "source": [
        "#### Ejercicio 11: Convierte la lista `[1, 2, 0, 0, 4, 0]` en un array y obtén el índice de los elementos que no son cero (★★☆)\n",
        "\n",
        "> NOTA: Revisa la función `np.where` (https://numpy.org/devdocs/reference/generated/numpy.where.html)"
      ]
    },
    {
      "cell_type": "code",
      "execution_count": 21,
      "id": "b2652fee",
      "metadata": {
        "id": "b2652fee",
        "outputId": "a62db847-8635-41c9-c541-2de067cfbbc2",
        "colab": {
          "base_uri": "https://localhost:8080/"
        }
      },
      "outputs": [
        {
          "output_type": "execute_result",
          "data": {
            "text/plain": [
              "(array([0, 1, 4]),)"
            ]
          },
          "metadata": {},
          "execution_count": 21
        }
      ],
      "source": [
        "lista = [1, 2, 0, 0, 4, 0]\n",
        "array = np.array(lista)\n",
        "np.where(array != 0)"
      ]
    },
    {
      "cell_type": "markdown",
      "id": "e7948dbb",
      "metadata": {
        "id": "e7948dbb"
      },
      "source": [
        "#### Ejercicio 12: Convierte la lista `[0, 5, -1, 3, 15]` en un array, multiplica sus valores por `-2` y obtén los elementos pares (★★☆)"
      ]
    },
    {
      "cell_type": "code",
      "execution_count": 22,
      "metadata": {
        "id": "yVb3Em99PXHy",
        "outputId": "55b506b4-cffb-42c2-dc0b-1b4326c0481c",
        "colab": {
          "base_uri": "https://localhost:8080/"
        }
      },
      "outputs": [
        {
          "output_type": "execute_result",
          "data": {
            "text/plain": [
              "array([  0, -10,   2,  -6, -30])"
            ]
          },
          "metadata": {},
          "execution_count": 22
        }
      ],
      "source": [
        "lista = [0, 5, -1, 3, 15]\n",
        "array = np.array(lista)\n",
        "array = array * -2\n",
        "array[array % 2 == 0]"
      ],
      "id": "yVb3Em99PXHy"
    },
    {
      "cell_type": "markdown",
      "id": "a90d6f3e",
      "metadata": {
        "id": "a90d6f3e"
      },
      "source": [
        "#### Ejercicio 13: Crea un vector aleatorio de 10 elementos y ordénalo de menor a mayor (★★☆)\n",
        "\n",
        "> NOTA: Revisa la función `np.sort` (https://numpy.org/doc/stable/reference/generated/numpy.sort.html)"
      ]
    },
    {
      "cell_type": "code",
      "execution_count": 23,
      "id": "bc373a83",
      "metadata": {
        "id": "bc373a83",
        "outputId": "057bb491-6a18-40b2-b822-4ca3e21cd8ee",
        "colab": {
          "base_uri": "https://localhost:8080/"
        }
      },
      "outputs": [
        {
          "output_type": "execute_result",
          "data": {
            "text/plain": [
              "array([0.13239693, 0.23718074, 0.36205906, 0.42383192, 0.4562929 ,\n",
              "       0.51546235, 0.54596326, 0.62319413, 0.97964735, 0.98744369])"
            ]
          },
          "metadata": {},
          "execution_count": 23
        }
      ],
      "source": [
        "np.sort(np.random.rand(10))"
      ]
    },
    {
      "cell_type": "markdown",
      "id": "5e9b6115",
      "metadata": {
        "id": "5e9b6115"
      },
      "source": [
        "#### Ejercicio 14: Genera dos vectores aleatorios de 8 elementos y aplica las operaciones de suma, resta y multiplicación entre ellos (★★☆)\n",
        "\n",
        "> NOTA: Revisa las funciones matemáticas: https://numpy.org/doc/stable/reference/routines.math.html"
      ]
    },
    {
      "cell_type": "code",
      "execution_count": 24,
      "id": "cc77e421",
      "metadata": {
        "id": "cc77e421",
        "outputId": "7c8c16eb-1ac8-42e5-f210-a4a47eb5a2e4",
        "colab": {
          "base_uri": "https://localhost:8080/"
        }
      },
      "outputs": [
        {
          "output_type": "stream",
          "name": "stdout",
          "text": [
            "[0.34170482 0.72822588 0.62546867 0.25219489 0.46009365 0.93149365\n",
            " 0.85605545 0.2873292 ]\n",
            "[0.79889945 0.17206723 0.63421677 0.87518148 0.65710941 0.70069765\n",
            " 0.12983674 0.04100663]\n",
            "[1.14060427 0.90029311 1.25968545 1.12737637 1.11720306 1.6321913\n",
            " 0.98589219 0.32833583]\n",
            "[-0.45719463  0.55615865 -0.0087481  -0.62298659 -0.19701577  0.230796\n",
            "  0.72621871  0.24632257]\n",
            "[0.27298779 0.12530381 0.39668272 0.2207163  0.30233187 0.65269541\n",
            " 0.11114745 0.0117824 ]\n"
          ]
        }
      ],
      "source": [
        "a = np.random.rand(8)\n",
        "b = np.random.rand(8)\n",
        "print(a)\n",
        "print(b)\n",
        "print(a + b)\n",
        "print(a - b)\n",
        "print(a * b)"
      ]
    },
    {
      "cell_type": "markdown",
      "id": "c8e8daa0",
      "metadata": {
        "id": "c8e8daa0"
      },
      "source": [
        "#### Ejercicio 15: Convierte la lista `[1, 2, 3, 4, 5, 6, 7, 8, 9, 10, 11, 12]` en un array y transfórmalo en una matriz con filas de 3 columnas (★★★)"
      ]
    },
    {
      "cell_type": "code",
      "execution_count": 25,
      "metadata": {
        "id": "Vgo7Fo0jPXH0",
        "outputId": "cb8841f6-3bf4-4032-b5af-559ee4a03312",
        "colab": {
          "base_uri": "https://localhost:8080/"
        }
      },
      "outputs": [
        {
          "output_type": "execute_result",
          "data": {
            "text/plain": [
              "array([[ 1,  2,  3,  4],\n",
              "       [ 5,  6,  7,  8],\n",
              "       [ 9, 10, 11, 12]])"
            ]
          },
          "metadata": {},
          "execution_count": 25
        }
      ],
      "source": [
        "lista = [1, 2, 3, 4, 5, 6, 7, 8, 9, 10, 11, 12]\n",
        "array = np.array(lista)\n",
        "matriz = np.reshape(array,(3,4))\n",
        "matriz"
      ],
      "id": "Vgo7Fo0jPXH0"
    }
  ],
  "metadata": {
    "kernelspec": {
      "display_name": "Python 3",
      "language": "python",
      "name": "python3"
    },
    "language_info": {
      "codemirror_mode": {
        "name": "ipython",
        "version": 3
      },
      "file_extension": ".py",
      "mimetype": "text/x-python",
      "name": "python",
      "nbconvert_exporter": "python",
      "pygments_lexer": "ipython3",
      "version": "3.11.4"
    },
    "colab": {
      "provenance": []
    }
  },
  "nbformat": 4,
  "nbformat_minor": 5
}